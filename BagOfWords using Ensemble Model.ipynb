{
 "cells": [
  {
   "cell_type": "code",
   "execution_count": 1,
   "metadata": {},
   "outputs": [],
   "source": [
    "import os\n",
    "import sys\n",
    "import numpy as np\n",
    "import pandas as pd\n",
    "import inspect\n",
    "\n",
    "import regex as re\n",
    "from texttable import Texttable\n",
    "\n",
    "from scipy.sparse import csr_matrix\n",
    "from sklearn import tree\n",
    "from sklearn import linear_model\n",
    "from sklearn.svm import SVC\n",
    "from sklearn.svm import LinearSVC\n",
    "from sklearn.naive_bayes import MultinomialNB\n",
    "from sklearn.naive_bayes import GaussianNB\n",
    "from sklearn.neighbors import KNeighborsClassifier\n",
    "from sklearn.ensemble import RandomForestClassifier, VotingClassifier, ExtraTreesClassifier\n",
    "from sklearn.model_selection import train_test_split\n",
    "from sklearn.metrics import accuracy_score\n",
    "from sklearn.metrics import precision_score\n",
    "from sklearn.preprocessing import StandardScaler\n",
    "\n",
    "from TextClassify import BagOfWords\n",
    "\n",
    "from datetime import datetime\n",
    "import warnings\n",
    "warnings.filterwarnings('ignore')"
   ]
  },
  {
   "cell_type": "code",
   "execution_count": 2,
   "metadata": {},
   "outputs": [],
   "source": [
    "topics = {\n",
    "    'X0300001':'水泥',\n",
    "    'X0300002':'食品加工',\n",
    "    'X0300003':'石化',\n",
    "    'X0300004':'紡織',\n",
    "    'X0300005':'電機機械',\n",
    "    'X0300006':'電器電纜',\n",
    "    'X0300012':'科技相關',\n",
    "    'X0300020':'生技醫療保健',\n",
    "    'X1900238':'Apple Watch',\n",
    "    'X1900273':'FinTech'\n",
    "}"
   ]
  },
  {
   "cell_type": "code",
   "execution_count": 3,
   "metadata": {},
   "outputs": [],
   "source": [
    "models = {\n",
    "    'lr':{'path':'{}_lr.model', 'model':None, 'name':'linear regression'},\n",
    "    'svm':{'path':'{}_svm.model', 'model':None, 'name':'SVM'},\n",
    "    'lsvc':{'path':'{}_LinearSVC.model', 'model':None, 'name':'Linear SVC'},\n",
    "    'nb':{'path':'{}_NaiveBayes.model', 'model':None, 'name':'Naive Bayes'},\n",
    "    'knn':{'path':'{}_KNN.model', 'model':None, 'name':'KNN'},\n",
    "    'tree':{'path':'{}_DecisionTrees.model', 'model':None,'name':'Decision Tree'},\n",
    "    'esb':{'path':'{}_ensemble.model', 'model':None, 'name':'Ensemble'}\n",
    "}"
   ]
  },
  {
   "cell_type": "code",
   "execution_count": 4,
   "metadata": {},
   "outputs": [],
   "source": [
    "topic = 'X0300020'\n",
    "data_dir = r'./data/{}'.format(topic)\n",
    "dict_path = os.path.join(data_dir, '{}_dict.pkl'.format(topic))"
   ]
  },
  {
   "cell_type": "code",
   "execution_count": 5,
   "metadata": {},
   "outputs": [
    {
     "name": "stdout",
     "output_type": "stream",
     "text": [
      "User Dict loaded.\n"
     ]
    }
   ],
   "source": [
    "# build BOW model\n",
    "BOW = BagOfWords.BagOfWords(os.path.join(data_dir, 'dataset'))"
   ]
  },
  {
   "cell_type": "markdown",
   "metadata": {},
   "source": [
    "<h3>init word dictionary of BOW model</h3>"
   ]
  },
  {
   "cell_type": "code",
   "execution_count": 6,
   "metadata": {},
   "outputs": [
    {
     "name": "stdout",
     "output_type": "stream",
     "text": [
      "loaded dictionary from ./data/X0300020\\X0300020_dict.pkl\n",
      "done\n"
     ]
    }
   ],
   "source": [
    "# build the dictionary & save it\n",
    "if os.path.isfile(dict_path):\n",
    "    BOW.load_dictionary(dict_path)\n",
    "else:\n",
    "    BOW.build_dictionary()\n",
    "    BOW.save_dictionary(dict_path)"
   ]
  },
  {
   "cell_type": "markdown",
   "metadata": {},
   "source": [
    "<h3>load data</h3>"
   ]
  },
  {
   "cell_type": "code",
   "execution_count": 7,
   "metadata": {},
   "outputs": [
    {
     "name": "stdout",
     "output_type": "stream",
     "text": [
      "transforming data in to bag of words vector\n",
      "done\n"
     ]
    }
   ],
   "source": [
    "## LOAD DATA\n",
    "threshold = 0.86 # save model if accuracy over threshold\n",
    "X, y = BOW.transform_data(os.path.join(data_dir, 'dataset'), balance=True)\n",
    "X_train, X_test, y_train, y_test = train_test_split(X, y, stratify=y, test_size=0.25, random_state=42)"
   ]
  },
  {
   "cell_type": "code",
   "execution_count": 8,
   "metadata": {},
   "outputs": [
    {
     "name": "stdout",
     "output_type": "stream",
     "text": [
      "9102\n"
     ]
    }
   ],
   "source": [
    "print(BOW.num_samples)"
   ]
  },
  {
   "cell_type": "markdown",
   "metadata": {},
   "source": [
    "<h3>load each model if model exist or train it.</h3>"
   ]
  },
  {
   "cell_type": "code",
   "execution_count": 9,
   "metadata": {},
   "outputs": [
    {
     "name": "stdout",
     "output_type": "stream",
     "text": [
      "Load model from ./data/X0300020\\X0300020_lr.model\n",
      "Load model from ./data/X0300020\\X0300020_LinearSVC.model\n",
      "Load model from ./data/X0300020\\X0300020_NaiveBayes.model\n",
      "Load model from ./data/X0300020\\X0300020_DecisionTrees.model\n",
      "Load model from ./data/X0300020\\X0300020_ensemble.model\n",
      "+-------------------+----------+\n",
      "|       model       | accuracy |\n",
      "+===================+==========+\n",
      "| linear regression | 0.951    |\n",
      "+-------------------+----------+\n",
      "| SVM               | 0.821    |\n",
      "+-------------------+----------+\n",
      "| Linear SVC        | 0.957    |\n",
      "+-------------------+----------+\n",
      "| Naive Bayes       | 0.880    |\n",
      "+-------------------+----------+\n",
      "| KNN               | 0.787    |\n",
      "+-------------------+----------+\n",
      "| Decision Tree     | 0.945    |\n",
      "+-------------------+----------+\n",
      "| Ensemble          | 0.958    |\n",
      "+-------------------+----------+\n"
     ]
    }
   ],
   "source": [
    "t = Texttable()\n",
    "rows = [['model', 'accuracy']]\n",
    "for i, m in enumerate(list(models.keys())): \n",
    "    modelPath = os.path.join(data_dir, models[m]['path'].format(topic))\n",
    "    if os.path.isfile(modelPath):\n",
    "        models[m]['model'] = BOW.loadModel(modelPath)\n",
    "    else:\n",
    "        if m == 'lr':\n",
    "            model = linear_model.LogisticRegression(C=1e5)\n",
    "        elif m == 'svm':\n",
    "            model = SVC()\n",
    "        elif m == 'lsvc':\n",
    "            model = LinearSVC()\n",
    "        elif m == 'nb':\n",
    "            model = MultinomialNB()\n",
    "        elif m == 'knn':\n",
    "            model = KNeighborsClassifier(n_neighbors=5)\n",
    "        elif m == 'tree':\n",
    "            model = tree.DecisionTreeClassifier()\n",
    "        elif m == 'esb':\n",
    "            model = VotingClassifier(\n",
    "                estimators=[\n",
    "                    ('lr', linear_model.LogisticRegression(random_state=42)), \n",
    "                    ('rf', RandomForestClassifier(random_state=42)), \n",
    "                    ('lsvm', tree.DecisionTreeClassifier(random_state=42)), \n",
    "                    ('nb', MultinomialNB()), \n",
    "                    ('extree',  ExtraTreesClassifier(random_state=42))\n",
    "                ], voting='soft')\n",
    "        model.fit(X_train, y_train)\n",
    "        models[m]['model'] = model\n",
    "    score = accuracy_score(y_test, models[m]['model'].predict(X_test))\n",
    "    rows.append([models[m]['name'], score])\n",
    "    \n",
    "    if not os.path.isfile(modelPath) and score >= threshold:\n",
    "        BOW.saveModel(model, modelPath)\n",
    "t.add_rows(rows)\n",
    "print(t.draw())"
   ]
  }
 ],
 "metadata": {
  "kernelspec": {
   "display_name": "Python 3",
   "language": "python",
   "name": "python3"
  },
  "language_info": {
   "codemirror_mode": {
    "name": "ipython",
    "version": 3
   },
   "file_extension": ".py",
   "mimetype": "text/x-python",
   "name": "python",
   "nbconvert_exporter": "python",
   "pygments_lexer": "ipython3",
   "version": "3.6.6"
  }
 },
 "nbformat": 4,
 "nbformat_minor": 2
}
